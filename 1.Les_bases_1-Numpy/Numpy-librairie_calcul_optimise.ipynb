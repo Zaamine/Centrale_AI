{
 "cells": [
  {
   "cell_type": "markdown",
   "metadata": {},
   "source": [
    "# Numpy: La librairie de calcul optimisé\n",
    "[Numpy](https://numpy.org) (Numerical Python) est la bibliothèque de référence en langage de programmation Python quand il s'agit de devoir effectuer des calculs mathématiques de haut niveau sur un jeu de données, elle présente 6 avantages majeurs :\n",
    "- elle se base sur le concept des tableaux (listes en Python) à la différence qu'ils peuvent être N-dimensionnels, elle manipule donc des matrices\n",
    "- elle comprend quasiment toutes les fonctions mathématiques liées aux concepts nécessaires en Data Science, c'est-à-dire les statistiques, les probabilités, l'algèbre linéaire, l'analyse et l'optimisation\n",
    "- elle s'interface parfaitement avec d'autres librairies Python utiles en Data Science, supporte un grand nombre de hardwares et permet aussi d'effectuer du calcul distribué, du calcul basé sur le GPU (carte graphique) de votre ordinateur\n",
    "- son noyau est codé en C, ce qui permet de profiter de la flexibilité de Python combinée à la vitesse d'un code compilé ; les lignes de code nécessaires et le temps de calcul sont alors très réduits par rapport à une synthaxe Python traditionnelle\n",
    "- sa syntaxe de haut niveau, se rapprochant de l'anglais comme Python, la rend accessible aux programmeurs de tout niveau et expérience\n",
    "- elle est open source, distribuée sous une licence BSD libérale et maintenue publiquement sur [GitHub](https://github.com/numpy/numpy) par une communauté passionnée et très réactive"
   ]
  },
  {
   "cell_type": "markdown",
   "metadata": {},
   "source": [
    "## Les arrays Numpy\n",
    "La classe d'objets que nous allons principalement utiliser est la classe **array** de Numpy, ils correspondent aux matrices N-dimensionnels mentionnés dans l'introduction. Ils ne peuvent seulement contenir des données numériques (integer ou float) mais qui peuvent correspondre à des jeux de données diverses tels que des données tabulaires, des séries temporelles ou des images."
   ]
  },
  {
   "cell_type": "markdown",
   "metadata": {},
   "source": [
    "### Création d'un array Numpy\n",
    "Un array Numpy peut être instantié avec de nombreux constructeurs différents mais leur argument commun est la \"shape\" de l'array: un tuple contenant les dimensions de la matrice souhaitée."
   ]
  },
  {
   "cell_type": "code",
   "execution_count": 1,
   "metadata": {},
   "outputs": [],
   "source": [
    "# Import de la bibliothèque Numpy sous l'alias np (c'est une convention dans la communauté des développeurs Python)\n",
    "import numpy as np"
   ]
  },
  {
   "cell_type": "code",
   "execution_count": 2,
   "metadata": {},
   "outputs": [
    {
     "name": "stdout",
     "output_type": "stream",
     "text": [
      "[    1    16    81   256   625  1296  2401  4096  6561 10000 14641 20736]\n"
     ]
    }
   ],
   "source": [
    "# Création d'une matrice à partir d'une compréhension de liste à l'aide du constructeur np.array()\n",
    "M = np.array([i**4 for i in range(1, 13)])\n",
    "print(M)"
   ]
  },
  {
   "cell_type": "code",
   "execution_count": 3,
   "metadata": {},
   "outputs": [
    {
     "name": "stdout",
     "output_type": "stream",
     "text": [
      "[[   1    2    3]\n",
      " [   6    9   12]\n",
      " [  38   57   49]\n",
      " [ 150 5222   11]]\n"
     ]
    }
   ],
   "source": [
    "# Création d'une matrice à partir d'une liste de listes à l'aide du constructeur np.array()\n",
    "M = np.array([[1, 2, 3],\n",
    "             [6, 9, 12],\n",
    "             [38, 57, 49],\n",
    "             [150, 5222, 11]])\n",
    "print(M)"
   ]
  },
  {
   "cell_type": "code",
   "execution_count": 4,
   "metadata": {},
   "outputs": [
    {
     "name": "stdout",
     "output_type": "stream",
     "text": [
      "[[0. 0. 0. 0. 0. 0. 0.]]\n"
     ]
    }
   ],
   "source": [
    "# Création d'une matrice de dimensions 1x7 remplie de zéros à l'aide du constructeur np.zeros()\n",
    "M = np.zeros(shape = (1, 7))\n",
    "print(M)"
   ]
  },
  {
   "cell_type": "code",
   "execution_count": 5,
   "metadata": {
    "scrolled": true
   },
   "outputs": [
    {
     "name": "stdout",
     "output_type": "stream",
     "text": [
      "[[[1. 1. 1. 1. 1. 1. 1. 1. 1. 1.]\n",
      "  [1. 1. 1. 1. 1. 1. 1. 1. 1. 1.]\n",
      "  [1. 1. 1. 1. 1. 1. 1. 1. 1. 1.]\n",
      "  [1. 1. 1. 1. 1. 1. 1. 1. 1. 1.]\n",
      "  [1. 1. 1. 1. 1. 1. 1. 1. 1. 1.]\n",
      "  [1. 1. 1. 1. 1. 1. 1. 1. 1. 1.]\n",
      "  [1. 1. 1. 1. 1. 1. 1. 1. 1. 1.]\n",
      "  [1. 1. 1. 1. 1. 1. 1. 1. 1. 1.]\n",
      "  [1. 1. 1. 1. 1. 1. 1. 1. 1. 1.]\n",
      "  [1. 1. 1. 1. 1. 1. 1. 1. 1. 1.]]\n",
      "\n",
      " [[1. 1. 1. 1. 1. 1. 1. 1. 1. 1.]\n",
      "  [1. 1. 1. 1. 1. 1. 1. 1. 1. 1.]\n",
      "  [1. 1. 1. 1. 1. 1. 1. 1. 1. 1.]\n",
      "  [1. 1. 1. 1. 1. 1. 1. 1. 1. 1.]\n",
      "  [1. 1. 1. 1. 1. 1. 1. 1. 1. 1.]\n",
      "  [1. 1. 1. 1. 1. 1. 1. 1. 1. 1.]\n",
      "  [1. 1. 1. 1. 1. 1. 1. 1. 1. 1.]\n",
      "  [1. 1. 1. 1. 1. 1. 1. 1. 1. 1.]\n",
      "  [1. 1. 1. 1. 1. 1. 1. 1. 1. 1.]\n",
      "  [1. 1. 1. 1. 1. 1. 1. 1. 1. 1.]]\n",
      "\n",
      " [[1. 1. 1. 1. 1. 1. 1. 1. 1. 1.]\n",
      "  [1. 1. 1. 1. 1. 1. 1. 1. 1. 1.]\n",
      "  [1. 1. 1. 1. 1. 1. 1. 1. 1. 1.]\n",
      "  [1. 1. 1. 1. 1. 1. 1. 1. 1. 1.]\n",
      "  [1. 1. 1. 1. 1. 1. 1. 1. 1. 1.]\n",
      "  [1. 1. 1. 1. 1. 1. 1. 1. 1. 1.]\n",
      "  [1. 1. 1. 1. 1. 1. 1. 1. 1. 1.]\n",
      "  [1. 1. 1. 1. 1. 1. 1. 1. 1. 1.]\n",
      "  [1. 1. 1. 1. 1. 1. 1. 1. 1. 1.]\n",
      "  [1. 1. 1. 1. 1. 1. 1. 1. 1. 1.]]]\n"
     ]
    }
   ],
   "source": [
    "# Création d'une matrice à 3 dimensions 3x10x10 remplie de uns à l'aide du constructeur np.ones()\n",
    "M = np.ones(shape = (3, 10, 10))\n",
    "print(M)"
   ]
  },
  {
   "cell_type": "code",
   "execution_count": 6,
   "metadata": {
    "scrolled": true
   },
   "outputs": [
    {
     "name": "stdout",
     "output_type": "stream",
     "text": [
      "[[20 20 20 20 20]\n",
      " [20 20 20 20 20]\n",
      " [20 20 20 20 20]\n",
      " [20 20 20 20 20]]\n"
     ]
    }
   ],
   "source": [
    "# Création d'une matrice à 2 dimensions 4x5 remplie de 20 à l'aide du constructeur np.full()\n",
    "M = np.full((4, 5), 20)\n",
    "print(M)"
   ]
  },
  {
   "cell_type": "code",
   "execution_count": 7,
   "metadata": {},
   "outputs": [
    {
     "name": "stdout",
     "output_type": "stream",
     "text": [
      "[[1. 0. 0.]\n",
      " [0. 1. 0.]\n",
      " [0. 0. 1.]]\n"
     ]
    }
   ],
   "source": [
    "# Création de la matrice identité de taille 3\n",
    "I = np.eye(3)\n",
    "print(I)"
   ]
  },
  {
   "cell_type": "markdown",
   "metadata": {},
   "source": [
    "Il est également possible d'utiliser d'autres constructeurs pour créer des matrices particulières, comme par exemple np.linspace(), permettant de définir un nombre d'éléments (argument **num**) espacés uniformément entre une valeur de départ **start** et une valeur de fin **stop** :"
   ]
  },
  {
   "cell_type": "code",
   "execution_count": 8,
   "metadata": {},
   "outputs": [
    {
     "name": "stdout",
     "output_type": "stream",
     "text": [
      "[ 2.  4.  6.  8. 10. 12. 14. 16. 18. 20. 22.]\n"
     ]
    }
   ],
   "source": [
    "# Création d'une matrice à 1 dimension avec 11 valeurs entre 2 et 22 à l'aide du constructeur np.linspace()\n",
    "M = np.linspace(start = 2, stop = 22, num = 11)\n",
    "print(M)"
   ]
  },
  {
   "cell_type": "code",
   "execution_count": 9,
   "metadata": {},
   "outputs": [
    {
     "name": "stdout",
     "output_type": "stream",
     "text": [
      "[ 3  9 15]\n"
     ]
    }
   ],
   "source": [
    "# Création d'une matrice à 1 dimension avec des valeurs entre 3 et 17 par pas de 6 à l'aide du constructeur np.arange()\n",
    "M = np.arange(start = 3, stop = 17, step = 6)\n",
    "print(M)"
   ]
  },
  {
   "cell_type": "markdown",
   "metadata": {},
   "source": [
    "Enfin, il est possible de remplir une matrice de dimensions données par des valeurs au hasard à l'aide des constructeurs suivants :"
   ]
  },
  {
   "cell_type": "code",
   "execution_count": 10,
   "metadata": {
    "scrolled": true
   },
   "outputs": [
    {
     "name": "stdout",
     "output_type": "stream",
     "text": [
      "[[0.03884444 0.77573559 0.65411836]\n",
      " [0.09296102 0.87869102 0.29490065]]\n"
     ]
    }
   ],
   "source": [
    "# Création d'une matrice 2x3 remplie de valeurs au hasard entre 0 et 1 à l'aide du constructeur np.random.random()\n",
    "M = np.random.random(size = (2, 3))\n",
    "print(M)"
   ]
  },
  {
   "cell_type": "code",
   "execution_count": 11,
   "metadata": {},
   "outputs": [
    {
     "name": "stdout",
     "output_type": "stream",
     "text": [
      "[[ 9 18 10 10 10 13]\n",
      " [19 19 10 19 14 17]\n",
      " [20 16 18  9 16 11]\n",
      " [14 11 16  9 20 20]\n",
      " [19 16 14 11  9 20]]\n"
     ]
    }
   ],
   "source": [
    "# Création d'une matrice 5x6 remplie de valeurs au hasard entre 9 inclu et 21 exclu à l'aide du constructeur np.random.randint()\n",
    "M = np.random.randint(low = 9, high = 21, size = (5, 6))\n",
    "print(M)"
   ]
  },
  {
   "cell_type": "code",
   "execution_count": 12,
   "metadata": {
    "scrolled": true
   },
   "outputs": [
    {
     "name": "stdout",
     "output_type": "stream",
     "text": [
      "[[[-0.26657336  0.15274966  0.46994289 -0.47601221]\n",
      "  [ 0.1385621   0.227038   -0.97787237 -0.22735764]\n",
      "  [ 0.51447222  0.33208716 -0.1519316  -0.09814207]\n",
      "  [-1.10058473 -0.49736339  0.37307116 -0.09900629]]\n",
      "\n",
      " [[-1.23684324 -0.81422752 -0.51370463  1.08011855]\n",
      "  [ 0.06146174  0.13841948 -1.85831457 -0.93653696]\n",
      "  [-0.81570209 -0.65668238 -0.0392134  -0.00816861]\n",
      "  [-0.74912786 -0.47385899 -0.65152825 -0.76208786]]\n",
      "\n",
      " [[ 0.17497325  1.48915984 -0.02498838 -0.70127848]\n",
      "  [-1.16316834 -0.2102761  -0.80020769  0.88940711]\n",
      "  [-0.47293094  0.57994548 -1.08855392  0.9511732 ]\n",
      "  [ 1.83059582  0.25767911  0.91943237  1.79723978]]\n",
      "\n",
      " [[-0.39154358 -0.41061372  0.66245908 -1.5844278 ]\n",
      "  [-1.48299508  1.0465169  -0.52753458 -0.91813742]\n",
      "  [ 1.49369697  0.32447191  0.28700724 -0.13767266]\n",
      "  [ 0.007362    0.82383028  0.65979312 -1.94096072]]]\n"
     ]
    }
   ],
   "source": [
    "# Matrice 4x4x4 remplie de valeurs suivant une loi normale centrée réduite à l'aide du constructeur np.random.normal()\n",
    "N = np.random.normal(loc = 0.0, scale = 1.0, size = (4, 4, 4))\n",
    "print(N)"
   ]
  },
  {
   "cell_type": "code",
   "execution_count": 13,
   "metadata": {},
   "outputs": [
    {
     "name": "stdout",
     "output_type": "stream",
     "text": [
      "[[[[5.32058121 4.74360963]\n",
      "   [4.06535676 5.05516897]]\n",
      "\n",
      "  [[3.03412891 4.57343704]\n",
      "   [5.65661581 5.57807528]]]\n",
      "\n",
      "\n",
      " [[[4.4517619  6.41112205]\n",
      "   [6.25947833 3.83141211]]\n",
      "\n",
      "  [[5.89598341 9.00494005]\n",
      "   [4.3377355  5.40688611]]]]\n"
     ]
    }
   ],
   "source": [
    "# Matrice 2x2x2x2 remplie de valeurs suivant une loi normale N(5,2) à l'aide du constructeur np.random.normal()\n",
    "N2 = np.random.normal(loc = 5.0, scale = 2.0, size = (2, 2, 2, 2))\n",
    "print(N2)"
   ]
  },
  {
   "cell_type": "markdown",
   "metadata": {},
   "source": [
    "### Indexation d'un array Numpy\n",
    "Comme les arrays Numpy sont multidimensionnels au contraire des listes, il faut indiquer l'indice que nous voulons accéder sur chaque dimension :\n",
    "![Image DataScientest indexation Numpy](img/image_indexation_numpy.png)"
   ]
  },
  {
   "cell_type": "code",
   "execution_count": 14,
   "metadata": {},
   "outputs": [
    {
     "name": "stdout",
     "output_type": "stream",
     "text": [
      "1.0\n"
     ]
    }
   ],
   "source": [
    "M = np.ones(shape = (3, 7))\n",
    "\n",
    "# Affichage de l'élément à l'indice (1, 2)\n",
    "print(M[1, 2])\n",
    "\n",
    "# Assignation de la valeur -1 à l'élément d'indice (2, 3)\n",
    "M[2, 3] = -1"
   ]
  },
  {
   "cell_type": "markdown",
   "metadata": {},
   "source": [
    "Il est possible de découper un array en le sliçant sur chaque dimension :\n",
    "\n",
    "![Image DataScientest slicing Numpy](img/image_slicing_numpy.png)\n",
    "![Image Data Scientest slicing Numpy ligne](img/image_slicing_numpy_ligne.png)"
   ]
  },
  {
   "cell_type": "code",
   "execution_count": 15,
   "metadata": {},
   "outputs": [
    {
     "name": "stdout",
     "output_type": "stream",
     "text": [
      "[[2 3 4]\n",
      " [2 3 4]\n",
      " [2 3 4]]\n",
      "\n",
      "\n",
      "[0 1 2 3 4 5]\n",
      "\n",
      "\n",
      "[3 3 3 3 3]\n"
     ]
    }
   ],
   "source": [
    "M = np.array([[i for i in range(6)],\n",
    "             [i for i in range(6)],\n",
    "             [i for i in range(6)],\n",
    "             [i for i in range(6)],\n",
    "             [i for i in range(6)]])\n",
    "\n",
    "# Récupération du sous-array [1:4, 2:5]\n",
    "print(M[1:4, 2:5])\n",
    "print(\"\\n\")\n",
    "\n",
    "\n",
    "# Récupération de la 3ème ligne (ligne d'indice 2) [2, :]\n",
    "print(M[2, :])\n",
    "print(\"\\n\")\n",
    "\n",
    "\n",
    "# Récupération de la 4ème colonne (colonne d'indice 3) [:, 3]\n",
    "print(M[:, 3])"
   ]
  },
  {
   "cell_type": "markdown",
   "metadata": {},
   "source": [
    "### Indexation conditionnelle d'un array Numpy\n",
    "Ceci permet d'accéder et modifier facilement des éléments qui respectent une condition spécifique."
   ]
  },
  {
   "cell_type": "code",
   "execution_count": 16,
   "metadata": {},
   "outputs": [
    {
     "name": "stdout",
     "output_type": "stream",
     "text": [
      "[[ 0  0 30]\n",
      " [ 0  3  0]\n",
      " [ 5  0 10]]\n"
     ]
    }
   ],
   "source": [
    "# Création d'un array de dimension 3x3\n",
    "M = np.array([[-1, 0, 30],\n",
    "              [-2, 3, -5],\n",
    "              [5, -5, 10]])\n",
    "\n",
    "# Assignation à tous les éléments négatifs la valeur 0\n",
    "M[M < 0] = 0\n",
    "\n",
    "# Affichage de la matrice modifiée\n",
    "print(M)"
   ]
  },
  {
   "cell_type": "code",
   "execution_count": 17,
   "metadata": {},
   "outputs": [
    {
     "name": "stdout",
     "output_type": "stream",
     "text": [
      "[['ZERO' 'ZERO' 'autre']\n",
      " ['ZERO' 'autre' 'ZERO']\n",
      " ['autre' 'ZERO' 'autre']]\n"
     ]
    }
   ],
   "source": [
    "# Mise en valeur de tous les éléments dont la valeur est égale à 0\n",
    "print(np.where(M == 0, \"ZERO\", \"autre\"))"
   ]
  },
  {
   "cell_type": "markdown",
   "metadata": {},
   "source": [
    "Il est également possible d'indexer un array à l'aide d'une condition évaluée sur un autre array :"
   ]
  },
  {
   "cell_type": "code",
   "execution_count": 18,
   "metadata": {},
   "outputs": [
    {
     "name": "stdout",
     "output_type": "stream",
     "text": [
      "[ 3 -1 -1 -1  6 -1  2  9]\n"
     ]
    }
   ],
   "source": [
    "# Création de 2 arrays à 8 éléments\n",
    "M1 = np.array([3, -7, -10, 3, 6, 5, 2, 9])\n",
    "M2 = np.array([0, 1, 1, 1, 0, 1, 0, 0])\n",
    "\n",
    "# Assignation de la valeur -1 aux éléments de M1 pour lesquels la valeur de M2 à l'indice correspondant vaut 1\n",
    "M1[M2 == 1] = -1\n",
    "\n",
    "# Affichage de M1\n",
    "print(M1)"
   ]
  },
  {
   "cell_type": "code",
   "execution_count": 19,
   "metadata": {},
   "outputs": [
    {
     "name": "stdout",
     "output_type": "stream",
     "text": [
      "[3 6 2 9]\n"
     ]
    }
   ],
   "source": [
    "# Affichage des éléments de M1 pour lesquels la valeur de M2 à l'indice correspondant vaut 0\n",
    "print(M1[M2 == 0])"
   ]
  },
  {
   "cell_type": "markdown",
   "metadata": {},
   "source": [
    "## Les opérations sur Numpy"
   ]
  },
  {
   "cell_type": "markdown",
   "metadata": {},
   "source": [
    "### Opérations mathématiques de base\n",
    "Comme dit précédemment, l'intérêt de Numpy est de pouvoir effectuer des calculs sur de grandes matrices en un temps très réduit et ce, quelque soient leurs dimensions. La liste complète se trouve sur [ce lien](https://numpy.org/doc/stable/reference/routines.math.html)."
   ]
  },
  {
   "cell_type": "code",
   "execution_count": 20,
   "metadata": {},
   "outputs": [
    {
     "name": "stdout",
     "output_type": "stream",
     "text": [
      "[0.   0.01 0.02 0.03 0.04 0.05 0.06 0.07 0.08 0.09 0.1  0.11 0.12 0.13\n",
      " 0.14 0.15 0.16 0.17 0.18 0.19 0.2  0.21 0.22 0.23 0.24 0.25 0.26 0.27\n",
      " 0.28 0.29 0.3  0.31 0.32 0.33 0.34 0.35 0.36 0.37 0.38 0.39 0.4  0.41\n",
      " 0.42 0.43 0.44 0.45 0.46 0.47 0.48 0.49 0.5  0.51 0.52 0.53 0.54 0.55\n",
      " 0.56 0.57 0.58 0.59 0.6  0.61 0.62 0.63 0.64 0.65 0.66 0.67 0.68 0.69\n",
      " 0.7  0.71 0.72 0.73 0.74 0.75 0.76 0.77 0.78 0.79 0.8  0.81 0.82 0.83\n",
      " 0.84 0.85 0.86 0.87 0.88 0.89 0.9  0.91 0.92 0.93 0.94 0.95 0.96 0.97\n",
      " 0.98 0.99]\n",
      "\n",
      "\n",
      "[1.         1.01005017 1.02020134 1.03045453 1.04081077 1.0512711\n",
      " 1.06183655 1.07250818 1.08328707 1.09417428 1.10517092 1.11627807\n",
      " 1.12749685 1.13882838 1.1502738  1.16183424 1.17351087 1.18530485\n",
      " 1.19721736 1.2092496  1.22140276 1.23367806 1.24607673 1.25860001\n",
      " 1.27124915 1.28402542 1.29693009 1.30996445 1.32312981 1.33642749\n",
      " 1.34985881 1.36342511 1.37712776 1.39096813 1.40494759 1.41906755\n",
      " 1.43332941 1.44773461 1.46228459 1.47698079 1.4918247  1.50681779\n",
      " 1.52196156 1.53725752 1.55270722 1.56831219 1.58407398 1.59999419\n",
      " 1.6160744  1.63231622 1.64872127 1.66529119 1.68202765 1.69893231\n",
      " 1.71600686 1.73325302 1.7506725  1.76826705 1.78603843 1.80398842\n",
      " 1.8221188  1.8404314  1.85892804 1.87761058 1.89648088 1.91554083\n",
      " 1.93479233 1.95423732 1.97387773 1.99371553 2.01375271 2.03399126\n",
      " 2.05443321 2.07508061 2.09593551 2.11700002 2.13827622 2.15976625\n",
      " 2.18147227 2.20339643 2.22554093 2.24790799 2.27049984 2.29331874\n",
      " 2.31636698 2.33964685 2.36316069 2.38691085 2.41089971 2.43512965\n",
      " 2.45960311 2.48432253 2.50929039 2.53450918 2.55998142 2.58570966\n",
      " 2.61169647 2.63794446 2.66445624 2.69123447]\n"
     ]
    }
   ],
   "source": [
    "M = np.array([i / 100 for i in range(100)]) # 0, 0.01, 0.02, 0.03, ..., 0.98, 0.99\n",
    "print(M)\n",
    "\n",
    "print(\"\\n\")\n",
    "\n",
    "# Calcul de l'exponentielle de m pour m = 0, 0.01, 0.02, 0.03, ..., 0.98, 0.99\n",
    "exp_M = np.exp(M)\n",
    "print(exp_M)"
   ]
  },
  {
   "cell_type": "markdown",
   "metadata": {},
   "source": [
    "Comparons les temps d'exécution de 2 calculs sur un array comprenant 3 millions de valeurs afin de réellement comprendre pourquoi on parle de \"calcul optimisé\" dans le cas de la bibliothèque Numpy :"
   ]
  },
  {
   "cell_type": "code",
   "execution_count": 21,
   "metadata": {},
   "outputs": [
    {
     "name": "stdout",
     "output_type": "stream",
     "text": [
      "Temps de calcul avec Numpy : 0.36300110816955566 secondes\n",
      "Temps de calcul avec une boucle for : 34.8879976272583 secondes\n",
      "\n",
      "\n",
      "Pour ce calcul, Numpy a été 96.10989289587052 fois plus rapide.\n"
     ]
    }
   ],
   "source": [
    "# Import de la bibliothèque Time permettant de manipuler le temps\n",
    "from time import time\n",
    "\n",
    "# Création d'un array de 3 millions de valeurs\n",
    "M = np.array([i / 3e6 for i in range(int(3e6))])\n",
    "\n",
    "# Détermination du moment où on commence à compter le temps\n",
    "debut_temps_numpy = time()\n",
    "\n",
    "# Calcul à l'aide de Numpy\n",
    "np.exp(np.sin(M) + np.cos(M))\n",
    "\n",
    "# Détermination du moment où on arrête de compter le temps\n",
    "fin_temps_numpy = time()\n",
    "\n",
    "# Calcul du temps total\n",
    "temps_numpy = fin_temps_numpy - debut_temps_numpy\n",
    "\n",
    "# Affichage du temps en secondes nécessaire pour effectuer le calcul précédent\n",
    "print(\"Temps de calcul avec Numpy :\", temps_numpy, \"secondes\")\n",
    "\n",
    "# Répétition des actions précédentes, avec cette fois un calcul effectué à l'aide d'une boucle for de Python\n",
    "debut_temps_boucle = time()\n",
    "for i in range(M.shape[0]):\n",
    "    M[i] = np.exp(np.sin(M[i]) + np.cos(M[i]))\n",
    "fin_temps_boucle = time()\n",
    "temps_boucle = fin_temps_boucle - debut_temps_boucle\n",
    "print(\"Temps de calcul avec une boucle for :\", temps_boucle, \"secondes\")\n",
    "print(\"\\n\")\n",
    "print(\"Pour ce calcul, Numpy a été\", temps_boucle / temps_numpy, \"fois plus rapide.\")"
   ]
  },
  {
   "cell_type": "markdown",
   "metadata": {},
   "source": [
    "### Opérations arithmétiques de base\n",
    "Une opération arithmétique de base (+, -, \\*, /, \\*\\*, //, %) effectuée entre 2 arrays Numpy s'appliquera entre chaque paire d'éléments.\n",
    "\n",
    "Pour que ces opérations puissent être effectuées, il est nécessaire que les 2 matrices aient les mêmes dimensions !"
   ]
  },
  {
   "cell_type": "code",
   "execution_count": 22,
   "metadata": {},
   "outputs": [
    {
     "name": "stdout",
     "output_type": "stream",
     "text": [
      "[[ 8  5 25]\n",
      " [16 10 50]]\n",
      "\n",
      "\n",
      "[[ 6  1 17]\n",
      " [12  2 34]]\n",
      "\n",
      "\n",
      "[[  7   6  84]\n",
      " [ 28  24 336]]\n",
      "\n",
      "\n",
      "[[7.   1.5  5.25]\n",
      " [7.   1.5  5.25]]\n",
      "\n",
      "\n",
      "[[         7          9     194481]\n",
      " [       196       1296 1795711232]]\n",
      "\n",
      "\n",
      "[[7 1 5]\n",
      " [7 1 5]]\n",
      "\n",
      "\n",
      "[[0 1 1]\n",
      " [0 2 2]]\n"
     ]
    }
   ],
   "source": [
    "M1 = np.array([[7, 3, 21],\n",
    "               [14, 6, 42]])\n",
    "\n",
    "M2 = np.array([[1, 2, 4],\n",
    "               [2, 4, 8]])\n",
    "\n",
    "# Addition entre les 2 arrays\n",
    "print(M1 + M2)\n",
    "print(\"\\n\")\n",
    "\n",
    "# Soustraction entre les 2 arrays\n",
    "print(M1 - M2)\n",
    "print(\"\\n\")\n",
    "\n",
    "# Multiplication entre les 2 arrays\n",
    "print(M1 * M2)\n",
    "print(\"\\n\")\n",
    "\n",
    "# Division entre les 2 arrays\n",
    "print(M1 / M2)\n",
    "print(\"\\n\")\n",
    "\n",
    "# M1 à la puissance M2\n",
    "print(M1 ** M2)\n",
    "print(\"\\n\")\n",
    "\n",
    "# Dvision entière entre les 2 arrays\n",
    "print(M1 // M2)\n",
    "print(\"\\n\")\n",
    "\n",
    "# Modulo (reste de la division entière) entre les 2 arrays\n",
    "print(M1 % M2)"
   ]
  },
  {
   "cell_type": "markdown",
   "metadata": {},
   "source": [
    "Pour effectuer plutôt un produit matriciel entre 2 ou plusieurs matrices, il faut plutôt utiliser la méthode .dot() des arrays Numpy.\n",
    "\n",
    "Rappel : Il faut que le nombre de colonnes de la première matrice corresponde au nombre de lignes de la deuxième pour que cette opération puisse fonctionner, la matrice résultante aura pour dimension le nombre de lignes de la première et le nombre de colonnes de la deuxième."
   ]
  },
  {
   "cell_type": "code",
   "execution_count": 23,
   "metadata": {},
   "outputs": [
    {
     "data": {
      "text/plain": [
       "array([[200, 228, 256, 284],\n",
       "       [215, 246, 277, 308]])"
      ]
     },
     "execution_count": 23,
     "metadata": {},
     "output_type": "execute_result"
    }
   ],
   "source": [
    "# Création d'une matrice M1 de dimension 2x3\n",
    "M1 = np.array([[3, 7, 18],\n",
    "               [4, 8, 19]])\n",
    "\n",
    "# Création d'une matrice M2 de dimension 3x4\n",
    "M2 = np.array([[1, 2, 3, 4],\n",
    "              [5, 6, 7, 8],\n",
    "              [9, 10, 11, 12]])\n",
    "\n",
    "# Produit matriciel entre M1 et M2, de dimension 2x4\n",
    "M1.dot(M2)"
   ]
  },
  {
   "cell_type": "markdown",
   "metadata": {},
   "source": [
    "### Broadcasting (diffusion) entre une valeur constante et une matrice\n",
    "Mathématiquement, une opération arithmétique telle que l'addition entre une valeur constante et une matrice n'a pas de sens. Numpy va ainsi diffuser la constante de manière à ce que l'opération puisse se faire entre elle et chaque terme de la matrice :\n",
    "\n",
    "$$ M = \\begin{pmatrix} 1 & 2 & 3\\\\ \\ 4 & 5 & 6 \\end{pmatrix}, c = 10 $$\n",
    "\n",
    "$$ M + c = \\begin{pmatrix} 1 + 10 & 2 + 10 & 3 + 10\\\\ \\ 4 + 10 & 5 + 10 & 6 + 10\\end{pmatrix}\n",
    "= \\begin{pmatrix} 11 & 12 & 13\\\\ \\ 14 & 15 & 16 \\end{pmatrix} $$\n",
    "\n",
    "On en déduit qu'au niveau de la librairie Numpy, la constante **c** s'est en réalité transformée de la manière suivante :\n",
    "$$ c \\xrightarrow{\\text{broadcasting}} C = \\begin{pmatrix} c & c & c\\\\ \\ c & c & c \\end{pmatrix} $$"
   ]
  },
  {
   "cell_type": "code",
   "execution_count": 24,
   "metadata": {},
   "outputs": [
    {
     "name": "stdout",
     "output_type": "stream",
     "text": [
      "[[11 12 13]\n",
      " [14 15 16]]\n"
     ]
    }
   ],
   "source": [
    "M = np.array([[1, 2, 3],\n",
    "              [4, 5, 6]])\n",
    "c = 10\n",
    "\n",
    "# Broadcasting de c pour pouvoir effectuer M + c\n",
    "print(M + c)"
   ]
  },
  {
   "cell_type": "markdown",
   "metadata": {},
   "source": [
    "### Broadcasting (diffusion) entre un vecteur et une matrice\n",
    "Le broadcasting entre un vecteur et une matrice est également possible. Il faut toutefois que pour chaque dimension du vecteur, celui-ci respecte une des conditions suivantes afin de pouvoir être broadcasté en dimensions compatibles avec la matrice:\n",
    "- les dimensions sont égales\n",
    "- une des dimensions vaut 1\n",
    "\n",
    "Ainsi, l'opération de soustraction peut être effectué entre la matrice et le vecteur suivants :\n",
    "$$ M_1 = \\begin{pmatrix} 1 & 2 & 3\\\\ \\ 4 & 5 & 6 \\end{pmatrix} $$\n",
    "$$ \\overrightarrow{v_1} = \\begin{pmatrix} 5\\\\ \\ 10 \\end{pmatrix} $$\n",
    "\n",
    "$$ M_1 + \\overrightarrow{v_1} = \\begin{pmatrix} 1 - 5 & 2 - 5 & 3 - 5\\\\ \\ 4 - 10 & 5 - 10 & 6 - 10\\end{pmatrix} \n",
    "= \\begin{pmatrix} -4 & -3 & -2\\\\ \\ -6 & -5 & -4 \\end{pmatrix} $$\n",
    "\n",
    "De même qu'entre la matrice et le vecteur suivants :\n",
    "$$ M_2 = \\begin{pmatrix} 1 & 2\\\\ \\ 3 & 4\\\\ \\ 5 & 6 \\end{pmatrix} $$\n",
    "$$ \\overrightarrow{v_2} = \\begin{pmatrix} 10 & 20 \\end{pmatrix} $$\n",
    "\n",
    "$$ M_2 - \\overrightarrow{v_2} = \\begin{pmatrix} 1 - 10 & 2 - 20\\\\ \\ 3 - 10 & 4 - 20\\\\ \\ 5 - 10 & 6 - 20\\end{pmatrix} \n",
    "= \\begin{pmatrix} -9 & -18\\\\ \\ -7 & -16\\\\ \\ -5 & -14 \\end{pmatrix} $$\n",
    "\n",
    "A contrario, n'importe quel des opérations arithmétiques de base citées précédemment ne peut pas être effectué car le vecteur suivant ne respecte pas les bonnes conditions :\n",
    "$$ M_3 = \\begin{pmatrix} 1 & 2 & 3 \\\\ \\ 4 & 5 & 6\\\\ \\ 7 & 8 & 9 \\end{pmatrix} $$\n",
    "$$ \\overrightarrow{v_3} = \\begin{pmatrix} 5\\\\ \\ 10\\\\ \\ 15\\\\ 20 \\end{pmatrix} $$"
   ]
  },
  {
   "cell_type": "code",
   "execution_count": 25,
   "metadata": {},
   "outputs": [
    {
     "name": "stdout",
     "output_type": "stream",
     "text": [
      "[[ -9 -18]\n",
      " [ -7 -16]\n",
      " [ -5 -14]]\n"
     ]
    }
   ],
   "source": [
    "M = np.array([[1, 2],\n",
    "              [3, 4],\n",
    "              [5, 6]])\n",
    "v = [10, 20]\n",
    "\n",
    "# Broadcasting de v pour pouvoir effectuer M - v\n",
    "print(M - v)"
   ]
  },
  {
   "cell_type": "markdown",
   "metadata": {},
   "source": [
    "### Statistiques de base avec Numpy\n",
    "Numpy dispose également de plusieurs méthodes statistiques de base, avec l'avantage d'effectuer en option les opérations sur une dimension particulière de la matrice.\n",
    "Ainsi, ces méthodes disposent tous d'un argument **axis** permettant de déterminer de quelle manière sera parcourue la matrice avant d'effectuer l'opération :\n",
    "- axis = 0 : la dimension parcourue sera celle des lignes, le résultat sera donc donné par colonne\n",
    "- axis = 1 : la dimension parcourue sera celle des colonnes, le résultat sera donc donné par ligne\n",
    "\n",
    "Si l'argument **axis** n'est pas précisé, l'opération s'effectuera simplement sur toute la matrice.\n",
    "\n",
    "Illustrons par exemple le fonctionnement de la méthode .mean() (pour calculer une moyenne) à l'aide de ce très bon schéma récapitulatif disponible dans le cours *NumPy pour la Data Science - Opération sur les arrays Numpy* de [DataScientest](https://datascientest.com) :\n",
    "![Image DataScientest argument axis Numpy](img/image_argument_axis_numpy.png)"
   ]
  },
  {
   "cell_type": "code",
   "execution_count": 26,
   "metadata": {},
   "outputs": [
    {
     "name": "stdout",
     "output_type": "stream",
     "text": [
      "[2. 3. 6.]\n",
      "[4.         3.33333333]\n",
      "3.6666666666666665\n"
     ]
    }
   ],
   "source": [
    "A = np.array([[1, 1, 10],\n",
    "              [3, 5, 2]])\n",
    "\n",
    "# Calcul de la moyenne sur les COLONNES de A (par parcourt des lignes)\n",
    "print(A.mean(axis = 0))\n",
    "\n",
    "# Calcul de la moyenne sur les LIGNES de A (par parcourt des colonnes)\n",
    "print(A.mean(axis = 1))\n",
    "\n",
    "# Calcul de la moyenne sur TOUTES LES VALEURS de A\n",
    "print(A.mean())"
   ]
  },
  {
   "cell_type": "markdown",
   "metadata": {},
   "source": [
    "En général, les jeux de données se présentent sous forme de matrices (tableaux) dont les lignes sont considérés comme des individus (ou entrées) et les colonnes sont considérés comme des variables (ou caractéristiques). Ainsi, la valeur **axis = 0** sera à préconiser lors des études statistiques exploratoires afin d'obtenir un résultat pour colonne de notre jeu de données, autrement dit pour chaque variable.\n",
    "\n",
    "Voici une liste (non exhaustive) des méthodes statistiques les plus utilisées :"
   ]
  },
  {
   "cell_type": "code",
   "execution_count": 27,
   "metadata": {},
   "outputs": [
    {
     "name": "stdout",
     "output_type": "stream",
     "text": [
      "[ 4  6 12]\n",
      "[1. 2. 4.]\n",
      "[1 1 2]\n",
      "[ 3  5 10]\n",
      "[0 0 1]\n",
      "[1 1 0]\n"
     ]
    }
   ],
   "source": [
    "# Calcul de la somme des éléments de chaque colonne de A\n",
    "print(A.sum(axis = 0))\n",
    "\n",
    "# Calcul de l'écart type des éléments de chaque colonne de A\n",
    "print(A.std(axis = 0))\n",
    "\n",
    "# Calcul de la valeur minimale parmi les éléments de chaque colonne de A\n",
    "print(A.min(axis = 0))\n",
    "\n",
    "# Calcul de la valeur maximale parmi les éléments de chaque colonne de A\n",
    "print(A.max(axis = 0))\n",
    "\n",
    "# Calcul de l'indice de la valeur minimale parmi les éléments de chaque colonne de A\n",
    "print(A.argmin(axis = 0))\n",
    "\n",
    "# Calcul de l'indice de la valeur maximale parmi les éléments de chaque colonne de A\n",
    "print(A.argmax(axis = 0))"
   ]
  },
  {
   "cell_type": "markdown",
   "metadata": {},
   "source": [
    "### Reshaper (redimensionner) un array Numpy\n",
    "Numpy permet de reconstruire les données d'un array avec des dimensions différentes à l'aide de la méthode .reshape(), dans laquelle nous devons spécifier l'argument **shape** afin de déterminer les dimensions que nous souhaitons obtenir.\n",
    "\n",
    "Il faut toutefois faire attention à ce que les 2 matrices (la matrice avant redimensionnement et la matrice après) aient le même nombre d'éléments. L'exemple qui suit part d'une matrice de dimensions 1x20 = 20 éléments et nous amène à la reshaper en une matrice de dimensions 4x5 = 20 éléments également, l'opération peut donc être effectué sans problème :"
   ]
  },
  {
   "cell_type": "code",
   "execution_count": 28,
   "metadata": {},
   "outputs": [
    {
     "name": "stdout",
     "output_type": "stream",
     "text": [
      "[ 1  2  3  4  5  6  7  8  9 10 11 12 13 14 15 16 17 18 19 20]\n",
      "(20,)\n",
      "[[ 1  2  3  4  5]\n",
      " [ 6  7  8  9 10]\n",
      " [11 12 13 14 15]\n",
      " [16 17 18 19 20]]\n"
     ]
    }
   ],
   "source": [
    "# Création d'un array à partir d'une compréhension de liste de 20 éléments\n",
    "M = np.array([i for i in range(1, 21)])   # 1, 2, 3, ..., 19, 20\n",
    "print(M)\n",
    "\n",
    "# Affichage des dimensions de M\n",
    "print(M.shape)\n",
    "\n",
    "# Redimensionnement de M en une matrice à 4 lignes et 5 colonnes\n",
    "M_reshaped = M.reshape((4, 5))\n",
    "\n",
    "# Affichage de M redimensionné\n",
    "print(M_reshaped)"
   ]
  },
  {
   "cell_type": "markdown",
   "metadata": {},
   "source": [
    "Nous pouvons également reshaper une matrice en la transposant, c'est-à-dire en inversant ses lignes et ses colonnes :"
   ]
  },
  {
   "cell_type": "code",
   "execution_count": 29,
   "metadata": {},
   "outputs": [
    {
     "name": "stdout",
     "output_type": "stream",
     "text": [
      "[[ 1  6 11 16]\n",
      " [ 2  7 12 17]\n",
      " [ 3  8 13 18]\n",
      " [ 4  9 14 19]\n",
      " [ 5 10 15 20]]\n"
     ]
    }
   ],
   "source": [
    "# Calcul et affichage de la transposée de M_reshaped\n",
    "print(M_reshaped.T)"
   ]
  },
  {
   "cell_type": "markdown",
   "metadata": {},
   "source": [
    "### Concaténation d'arrays Numpy\n",
    "La concaténation d'arrays permet de fusionner plusieurs matrices pour n'en former qu'une seule à l'aide de la méthode np.concatenate(), les arguments à spécifier étant une liste des matrices à fusionner ainsi que la dimension sur laquelle la fusion doit s'effectuer (axe des lignes ou des colonnes) à l'aide d'**axis**. Il faut évidemment que les arrays soient de même taille sur cette dimension.\n",
    "\n",
    "Illustrons encore une fois à l'aide de cet excellent exemple provenant du cours *NumPy pour la Data Science - Manipulation d'arrays Numpy* de [DataScientest](https://datascientest.com) :\n",
    "\n",
    "![Image DataScientest concatenation arrays numpy](img/concatenation_arrays_numpy.png)"
   ]
  },
  {
   "cell_type": "code",
   "execution_count": 30,
   "metadata": {},
   "outputs": [
    {
     "name": "stdout",
     "output_type": "stream",
     "text": [
      "[[1 1]\n",
      " [1 1]\n",
      " [1 1]]\n",
      "\n",
      "\n",
      "[[0. 0.]\n",
      " [0. 0.]\n",
      " [0. 0.]]\n"
     ]
    }
   ],
   "source": [
    "# Création de deux arrays de 3 lignes et 2 colonnes\n",
    "x_1 = np.ones(shape = (3, 2), dtype = int) # les éléménts de l'array sont des nombres entiers (integers)\n",
    "x_2 = np.zeros(shape = (3, 2))\n",
    "print(x_1)\n",
    "print(\"\\n\")\n",
    "print(x_2)"
   ]
  },
  {
   "cell_type": "code",
   "execution_count": 31,
   "metadata": {},
   "outputs": [
    {
     "name": "stdout",
     "output_type": "stream",
     "text": [
      "[[1. 1.]\n",
      " [1. 1.]\n",
      " [1. 1.]\n",
      " [0. 0.]\n",
      " [0. 0.]\n",
      " [0. 0.]]\n",
      "\n",
      "\n",
      "[[1. 1. 0. 0.]\n",
      " [1. 1. 0. 0.]\n",
      " [1. 1. 0. 0.]]\n"
     ]
    }
   ],
   "source": [
    "# Concatenation des deux arrays sur l'axe des lignes (donc à la verticale)\n",
    "x_3 = np.concatenate([x_1, x_2], axis = 0)\n",
    "print(x_3)\n",
    "\n",
    "print(\"\\n\")\n",
    "\n",
    "# Concaténation des deux arrays sur l'axe des colonnes (donc à l'horizontale)\n",
    "x_4 = np.concatenate([x_1, x_2], axis = 1)\n",
    "print(x_4)"
   ]
  },
  {
   "cell_type": "markdown",
   "metadata": {},
   "source": [
    "Lorsque 2 matrices sont fusionnées, c'est le type le plus général qui prend le dessus, c'est-à-dire le type **float** dans ce cas précis."
   ]
  },
  {
   "cell_type": "markdown",
   "metadata": {},
   "source": [
    "## Exemples d'utilisation de Numpy"
   ]
  },
  {
   "cell_type": "markdown",
   "metadata": {},
   "source": [
    "### Exemple 1 : Simulation du théorème de la limite centrale\n",
    "Ce théorème déclare que toute somme de variables aléatoires indépendantes et identiquement distribuées tend vers une variable aléatoire gaussienne, c'est-à-dire qui suit une loi normale de paramètres $\\mu$ et $\\sigma^2$.\n",
    "\n",
    "Pour rappel, la formule de densité de probabilité d'une loi normale (distribution gaussienne) est la suivante :\n",
    "$$\n",
    "f(x | \\mu,\\sigma^2) = \\frac{1}{\\sqrt{2\\pi\\sigma^2}} \\mathrm{e}^\\frac{(x-\\mu)^2}{2\\sigma^2}\n",
    "$$\n",
    "avec $\\mu$ sa moyenne et $\\sigma$ son écart type.\n",
    "\n",
    "A l'aide de Python et matplotlib (une librairie Python permettant de tracer des graphiques), affichons cette fameuse \"courbe en cloche\" :"
   ]
  },
  {
   "cell_type": "code",
   "execution_count": 32,
   "metadata": {
    "scrolled": false
   },
   "outputs": [
    {
     "data": {
      "image/png": "[encoded data removed]",
      "text/plain": [
       "<matplotlib.figure.Figure at 0x1421f6fe240>"
      ]
     },
     "metadata": {},
     "output_type": "display_data"
    }
   ],
   "source": [
    "# Configuration de la librairie matplotlib afin de pouvoir afficher des graphiques directement dans ce notebook\n",
    "%matplotlib inline\n",
    "\n",
    "import matplotlib.pyplot as plt # import de la librairie matplotlib.pyplot sous l'alias plt\n",
    "from math import sqrt, pi, exp # quelques fonctions mathématiques utiles\n",
    "# numpy a déjà été importé au début de ce notebook\n",
    "\n",
    "domaine_def = range(-300, 300) \n",
    "\n",
    "# Spécification des paramètres de la distribution gaussienne que l'on va afficher\n",
    "mu = 0\n",
    "sigma = 50\n",
    "\n",
    "# Formule de densité de probabilité de la distribution gaussienne\n",
    "f = lambda x : (1 / sqrt(2 * pi * (sigma**2))) * exp(-(x - mu)**2 / (2 * sigma**2))\n",
    "\n",
    "# Création d'une liste contenant les images de x afin de pouvoir afficher ces valeurs ensuite\n",
    "y = [f(x) for x in domaine_def]\n",
    "\n",
    "plt.plot(domaine_def, y)\n",
    "plt.show()"
   ]
  },
  {
   "cell_type": "markdown",
   "metadata": {},
   "source": [
    "Illustrons alors ce théorème à l'aide d'un exemple similaire à celui que j'évoque dans l'article [*Top 10 des pré-requis mathématiques importants en Data Science*](https://datascientest.com/top-10-des-pre-requis-mathematiques-importants-en-data-science) que j'ai publié sur DataScientest :\n",
    "\n",
    "Imaginons que nous disposions d'un dé non pipé, donc ayant 6 faces et chaque face a équiprobablement une chance de 1/6 de sortir, et lançons-le 50 fois. La somme finale sera ainsi forcément comprise entre 50 et 300. \n",
    "\n",
    "Le théorème centrale limite peut alors nous permettre de répondre à une question du type : quelle est la probabilité que la somme des résultats obtenus soit supérieure à 200 ?\n",
    "\n",
    "En effet, posons X la variable aléatoire qui représente la somme des valeurs des 100 dés. La moyenne $\\mu$ et la variance $\\sigma^2$ qui caractérisent X sont :\n",
    "- $\\mu_{dé} = 3.5$ lorsqu'il n'y en a qu'un seul, donc la valeur moyenne de 50 dés est de $175$\n",
    "- $\\sigma^2_{dé} = \\frac{35}{12}$ lorsqu'il n'y en a qu'un seul, donc l'écart type de 50 dés est de $\\frac{1750}{12}$\n",
    "\n",
    "$X$ suit donc une loi normale $\\mathcal{N}(175, \\frac{1750}{12})$\n",
    "\n",
    "Enfin, à la main, il faut centrer et réduire X en changeant de variable tel que $Z = \\frac{X - \\mu}{\\sigma}$ afin de pouvoir utiliser la [table de valeurs](http://www.leansigmacorporation.com/image-files/z_distribution.png) de la loi normale centrée réduite $\\mathcal{N}(0, 1)$, ce qui nous donne $P(X \\ge 200) = P(Z \\ge 2.076) = 0.019 = 1.9\\%$.\n",
    "\n",
    "Numpy permet d'éviter tous ces calculs en calculant directement la probabilité voulue classiquement par l'intégrale de la densité de probabilité entre $200$ et $+\\infty$ :\n",
    "\n",
    "$$\n",
    "P(x \\ge 200) = \\int_{200}^{+\\infty} f(x) \\mathrm{d}x\n",
    "$$\n",
    "\n",
    "Essayons de retrouver ce résultat de manière empirique en simulant 50 lancers de dés :"
   ]
  },
  {
   "cell_type": "code",
   "execution_count": 33,
   "metadata": {
    "scrolled": true
   },
   "outputs": [
    {
     "data": {
      "image/png": "[encoded data removed]",
      "text/plain": [
       "<matplotlib.figure.Figure at 0x1421f6fe748>"
      ]
     },
     "metadata": {},
     "output_type": "display_data"
    }
   ],
   "source": [
    "# Matrice contenant 50 variables aléatoires dont on tire de chacune d'elles 10000000 de valeurs au hasard entre 1 et 6\n",
    "D = np.random.randint(low = 1, high = 7, size = (50, 10000000))\n",
    "\n",
    "# Calcul de la somme obtenue sur les 100 lancers de dé\n",
    "sommes_lancersDe = np.sum(D, axis = 0)\n",
    "\n",
    "# Affichage de la distribution de nos 100 lancers de dé\n",
    "plt.hist(sommes_lancersDe)\n",
    "plt.show()"
   ]
  },
  {
   "cell_type": "code",
   "execution_count": 34,
   "metadata": {},
   "outputs": [
    {
     "data": {
      "text/plain": [
       "0.02462540484066303"
      ]
     },
     "execution_count": 34,
     "metadata": {},
     "output_type": "execute_result"
    }
   ],
   "source": [
    "# Calcul de la probabilité d'obtenir 200 ou plus en tant que somme des 100 lancers de dés\n",
    "sommes_lancersDe[sommes_lancersDe >= 200].sum() / sommes_lancersDe.sum()"
   ]
  },
  {
   "cell_type": "markdown",
   "metadata": {},
   "source": [
    "On a donc trouvé une probabilité d'environ 2.4%, ce qui se rapproche du résultat théorique."
   ]
  },
  {
   "cell_type": "markdown",
   "metadata": {},
   "source": [
    "### Exemple 2 : Prédiction du prix du loyer en fonction de la surface d'une chambre étudiante\n",
    "Essayons d'avoir grâce à Numpy une première intuition du Machine Learning en simulant un problème de régression linéaire univariée.\n",
    "\n",
    "L'idée principale derrière une régression logistique est de pouvoir prédire (estimer) une variable $y$ dite \"explicative\" (ou variable cible) à l'aide d'une seule variable (d'où le terme \"univariée\") $x$ appelée variable explicative. Le lien entre ces deux variables est modélisé par une fonction affine, la formule est donc de la forme :\n",
    "$$\n",
    "y \\approx \\beta_1x + \\beta_0\n",
    "$$\n",
    "\n",
    "Un vecteur $\\beta$ sera utilisé, dans lequel $\\beta_0$ est l'ordonnée à l'origine (on l'appelle aussi le biais) et $\\beta_1$ à la pente de la droite que l'on cherche à ajuster à nos données.\n",
    "\n",
    "Mais comment le modèle estime les paramètres $\\beta_0$ et $\\beta_1$ qui prédisent le mieux (autrement dit, avec le moins d'erreur possible) la variable $y$ à partir de la variable explicative $x$ ?\n",
    "\n",
    "Je vous invite à consulter [cette vidéo](https://www.youtube.com/watch?v=nk2CQITm_eo) de l'excellent youtuber et stasticien [Josh Starmer](https://www.youtube.com/channel/UCtYLUTtgS3k1Fg4y5tAhLbw) mais en attendant, penchons-nous sur ce que représente réellement le vecteur beta.\n",
    "\n",
    "Comme on cherche la droite qui s'ajuste le mieux à nos données, on peut en effet considérer ce vecteur comme une succession de rotations de cette droite.\n",
    "\n",
    "A chaque tentative d'ajustements de la droite (ou itérations), nous devons alors mesurer la distance entre cette droite et nos données, élever chaque distance au carré et ensuite les sommer. Enfin, pour déterminer l'erreur moyenne entre chaque point de nos données et la droite que nous cherchons à faire passer, il suffit de diviser cette somme par le nombre d'entrées utilisées pour ce calcul dans notre jeu de données, ce qui constitue une métrique pour quantifier l'erreur de prédiction obtenue par un modèle de régression, appelée \"erreur quadratique moyenne\" (mean squared error = MSE). Tout cela se résume par la formule suivante :\n",
    "$$\n",
    "MSE = \\frac{1}{n}\\sum_{i=1}^{n}(\\hat{y_i}-y_i)^2\n",
    "$$\n",
    "où $\\hat{y}$ est la prédiction de la variable $y$ par produit matricielle entre une matrice $X$ contenant la variable explicative et le vecteur de régression $\\beta*$ contenant les paramètres $\\beta_0$ et $\\beta_1$ optimaux estimés.\n",
    "\n",
    "Ainsi, nous allons pouvoir, pour chaque rotation de la droite que nous cherchons à ajuster à nos données, calculer l'erreur et ainsi déterminer les paramètres qui minimise cette erreur."
   ]
  },
  {
   "cell_type": "code",
   "execution_count": 35,
   "metadata": {},
   "outputs": [],
   "source": [
    "# Création d'une matrice X contenant la variable explicative : la surface de la chambre en m2\n",
    "X = np.array([18,\n",
    "              20,\n",
    "              40,\n",
    "              47])\n",
    "\n",
    "# Création d'un vecteur y contenant la variable cible : le prix du loyer en euros\n",
    "y = np.array([250,\n",
    "              302,\n",
    "              538,\n",
    "              607])"
   ]
  },
  {
   "cell_type": "code",
   "execution_count": 36,
   "metadata": {
    "scrolled": true
   },
   "outputs": [
    {
     "data": {
      "image/png": "[encoded data removed]",
      "text/plain": [
       "<matplotlib.figure.Figure at 0x1421fa0e588>"
      ]
     },
     "metadata": {},
     "output_type": "display_data"
    }
   ],
   "source": [
    "# Affichage d'un nuage de points permettant de visualiser nos données\n",
    "plt.scatter(X, y)\n",
    "plt.show()"
   ]
  },
  {
   "cell_type": "code",
   "execution_count": 37,
   "metadata": {},
   "outputs": [],
   "source": [
    "# Définition d'une fonction qui retourne l'erreur quadratique moyenne associée à une matrice X, un vecteur beta et un vecteur y\n",
    "def mean_squared_error(X, beta, y):\n",
    "    # Calcul de ^y\n",
    "    y_hat = X.dot(beta)\n",
    "    \n",
    "    # Calcul de l'erreur quadratique (î_i - y_i)**2\n",
    "    mse = (y_hat - y)**2\n",
    "    \n",
    "    # On fait la moyenne de l'erreur pour obtenir l'erreur quadratique moyenne\n",
    "    mse = mse.mean()\n",
    "    \n",
    "    return mse"
   ]
  },
  {
   "cell_type": "code",
   "execution_count": 38,
   "metadata": {},
   "outputs": [],
   "source": [
    "# Initialisation d'une liste vide qui va contenir plus tard les beta à tester\n",
    "errors = []\n",
    "\n",
    "# Création du vecteur beta\n",
    "liste_beta = np.linspace(start = 0.001, stop = 50, num = 1000000)\n",
    "\n",
    "# Ajout de l'erreur quadratique moyenne pour chaque valeur du vecteur beta dans une liste\n",
    "for beta in liste_beta:\n",
    "    errors.append(mean_squared_error(X, beta, y))"
   ]
  },
  {
   "cell_type": "code",
   "execution_count": 39,
   "metadata": {},
   "outputs": [
    {
     "name": "stdout",
     "output_type": "stream",
     "text": [
      "Le beta optimal est : 13.366196056196056\n"
     ]
    }
   ],
   "source": [
    "# Conversion de la liste contenant les MSE en un array numpy pour pouvoir utiliser la méthode argmin()\n",
    "mse_array = np.array(errors)\n",
    "\n",
    "# Détermination du beta* qui minimise l'erreur quadratique moyenne à l'aide de la méthode .argmin()\n",
    "indice_betaOptimal = mse_array.argmin()\n",
    "\n",
    "beta_optimal = liste_beta[indice_betaOptimal] # l'indice de la plus petite erreur correspond à l'indice du beta optimal\n",
    "\n",
    "print(\"Le beta optimal est :\", beta_optimal)"
   ]
  },
  {
   "cell_type": "code",
   "execution_count": 40,
   "metadata": {},
   "outputs": [
    {
     "name": "stdout",
     "output_type": "stream",
     "text": [
      "Les prix prédits par ce beta optimal sont : [240.59152901 267.32392112 534.64784225 628.21121464]\n",
      "L'écart moyen entre les prédictions et les vraies valeurs est de 17.16 euros\n"
     ]
    }
   ],
   "source": [
    "# Calcul des prix prédits par ce beta optimal\n",
    "y_hat = X.dot(beta_optimal)\n",
    "print(\"Les prix prédits par ce beta optimal sont :\", y_hat)\n",
    "\n",
    "# Comparaison des prix prédits aux vrais prix des appartements\n",
    "ecart_moyen = np.abs(y_hat - y).mean()\n",
    "print(\"L'écart moyen entre les prédictions et les vraies valeurs est de {} euros\".format(round(ecart_moyen, 2)))"
   ]
  },
  {
   "cell_type": "code",
   "execution_count": 41,
   "metadata": {},
   "outputs": [
    {
     "data": {
      "image/png": "[encoded data removed]",
      "text/plain": [
       "<matplotlib.figure.Figure at 0x1421fe5ea58>"
      ]
     },
     "metadata": {},
     "output_type": "display_data"
    }
   ],
   "source": [
    "plt.scatter(X, y)\n",
    "plt.plot(X, y_hat, \"r\")\n",
    "plt.show()"
   ]
  }
 ],
 "metadata": {
  "kernelspec": {
   "display_name": "Python 3",
   "language": "python",
   "name": "python3"
  },
  "language_info": {
   "codemirror_mode": {
    "name": "ipython",
    "version": 3
   },
   "file_extension": ".py",
   "mimetype": "text/x-python",
   "name": "python",
   "nbconvert_exporter": "python",
   "pygments_lexer": "ipython3",
   "version": "3.6.4"
  }
 },
 "nbformat": 4,
 "nbformat_minor": 2
}
