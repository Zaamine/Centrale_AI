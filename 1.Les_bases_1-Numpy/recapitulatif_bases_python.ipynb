{
 "cells": [
  {
   "cell_type": "markdown",
   "metadata": {},
   "source": [
    "# Récapitulatif des bases en langage Python\n",
    "\n",
    "Ceci est une cellule \"Markdown\" permettant d'écrire du texte (raccourci: **Esc + M**)"
   ]
  },
  {
   "cell_type": "markdown",
   "metadata": {},
   "source": [
    "## Les variables\n",
    "Pour nommer une variable, il existe plusieurs règles à respecter :\n",
    "\n",
    "- le nom d'une variable doit commencer par une lettre ou un tiret bas: _\n",
    "- le nom d'une variable ne peut pas commencer par un chiffre\n",
    "- le nom d'une variable ne peut contenir que des caractères alpha-numériques (lettres et nombres) et des tirets bas\n",
    "- les noms des variables sont sensibles à la casse. une_variable, Une_variable et UNE_VARIABLE sont trois variables différentes\n",
    "\n",
    "Source :\n",
    "*DataScientest, Python pour la Data Science, Introduction: Variables et Types*"
   ]
  },
  {
   "cell_type": "markdown",
   "metadata": {},
   "source": [
    "### Les variables simples"
   ]
  },
  {
   "cell_type": "code",
   "execution_count": null,
   "metadata": {},
   "outputs": [],
   "source": [
    "# Ceci est une cellule de code (raccourci: Esc + Y)\n",
    "\n",
    "# Variable entière (integer)\n",
    "une_variable_entiere = 5\n",
    "\n",
    "# Variable décimale (float = \"nombre à virgule flottante\")\n",
    "une_variable_decimale = 1.5\n",
    "\n",
    "# Variable de type \"chaîne de caractères\" (string)\n",
    "chaine_de_caracteres = \"Je suis une chaîne de caractères\" # La notation avec '' est également possible\n",
    "\n",
    "# Variable de type booléen (bool)\n",
    "un_booleen = True\n",
    "\n",
    "# Affichage des 3 variables précédentes à l'aide de la fonction print()\n",
    "print(une_variable_entiere)\n",
    "print(\"\\n\") # saut de ligne pour un affichage plus propre\n",
    "print(une_variable_decimale, chaine_de_caracteres, un_booleen) # utilisation de la virgule pour afficher les 3 variables d'un coup"
   ]
  },
  {
   "cell_type": "code",
   "execution_count": null,
   "metadata": {},
   "outputs": [],
   "source": [
    "# Assignation d'une nouvelle valeur à la variable 'une_variable_entiere', qui va écraser la précédente\n",
    "une_variable_entiere = 2\n",
    "print(une_variable_entiere)"
   ]
  },
  {
   "cell_type": "markdown",
   "metadata": {},
   "source": [
    "### Les listes\n",
    "- une liste est un type de variable composé d'autres variables pouvant être de différents types\n",
    "- une liste débute par un crochet ouvrant et se termine par un crochet fermant\n",
    "- les éléments d'une liste sont séparés par une virgule\n",
    "- les listes sont équivalentes aux tableaux (arrays) dans les autres langages de programmation informatiques"
   ]
  },
  {
   "cell_type": "code",
   "execution_count": null,
   "metadata": {},
   "outputs": [],
   "source": [
    "# Création d'une liste\n",
    "une_liste = [une_variable_entiere, 2.5, \"Je suis dans une liste\", 3.75, 6]\n",
    "\n",
    "# Affichage de la liste créée\n",
    "print(une_liste)"
   ]
  },
  {
   "cell_type": "markdown",
   "metadata": {},
   "source": [
    "- l'indexation d'une liste commence à 0, puis 1, puis continue jusqu'à n - 1 avec n le dernier élement de la liste\n",
    "- il est possible d'indexer les élements dans l'ordre inverse (indexation négative), nous pouvons ainsi récupérer le dernier élement de la liste avec l'indice -1, l'avant-dernier avec l'indice -2 et ainsi de suite\n",
    "\n",
    "\n",
    "![Image DataScientest indexation liste](img/image_indexation_liste.png)"
   ]
  },
  {
   "cell_type": "code",
   "execution_count": null,
   "metadata": {},
   "outputs": [],
   "source": [
    "# Affichage du premier élément de la liste\n",
    "print(\"Le premier élément de la liste est :\", une_liste[0])\n",
    "\n",
    "# Affichage du deuxième élément de la liste\n",
    "print(\"Le deuxième élément de la liste est :\", une_liste[1])\n",
    "\n",
    "# Affichage du dernier élément de la liste\n",
    "print(\"Le dernier élément de la liste est :\", une_liste[-1])"
   ]
  },
  {
   "cell_type": "code",
   "execution_count": null,
   "metadata": {},
   "outputs": [],
   "source": [
    "# Modification du premier élément de la liste\n",
    "une_liste[0] = 1\n",
    "\n",
    "print(une_liste) # le premier élément a bien été remplacé par 1"
   ]
  },
  {
   "cell_type": "markdown",
   "metadata": {},
   "source": [
    "Un autre type d'indexation possible est le découpage (slicing), qui permet de récupérer une sous-liste d'éléments d'une plus grande liste en spécifiant les indices de début et de fin de la sous-liste.\n",
    "\n",
    "Attention, l'élément se trouvant à l'indice de fin du découpage n'est pas inclu dans la sous-liste."
   ]
  },
  {
   "cell_type": "code",
   "execution_count": null,
   "metadata": {
    "scrolled": true
   },
   "outputs": [],
   "source": [
    "# Récupération des 3 premiers éléments de la liste par slicing\n",
    "print(une_liste[0:3]) # seul les éléments des indices 0, 1 et 2 ont été récupérés"
   ]
  },
  {
   "cell_type": "markdown",
   "metadata": {},
   "source": [
    "Si l'indice de début n'est pas spécifié, le découpage contiendra tous les éléments depuis le début jusqu'à l'indice de fin :"
   ]
  },
  {
   "cell_type": "code",
   "execution_count": null,
   "metadata": {},
   "outputs": [],
   "source": [
    "# Récupération des 3 premiers éléments de la liste par slicing\n",
    "print(une_liste[:3])"
   ]
  },
  {
   "cell_type": "markdown",
   "metadata": {},
   "source": [
    "De même, si l'indice de fin n'est pas spécifié, le découpage contiendra tous les éléments depuis l'indice de début jusqu'à la fin de la liste :"
   ]
  },
  {
   "cell_type": "code",
   "execution_count": null,
   "metadata": {},
   "outputs": [],
   "source": [
    "# Récupération des 3 derniers éléments de la liste par slicing\n",
    "print(une_liste[-3:])"
   ]
  },
  {
   "cell_type": "markdown",
   "metadata": {},
   "source": [
    "Méthodes (fonctions propres à une classe d'objets) de base des listes :\n",
    "- insérer un nouvel élément dans une liste à un emplacement précis\n",
    "- insérer un nouvel élément à la fin de la liste\n",
    "- supprimer un élément\n",
    "- fusionner une liste avec une autre"
   ]
  },
  {
   "cell_type": "code",
   "execution_count": null,
   "metadata": {},
   "outputs": [],
   "source": [
    "# Insertion de l'élement \"new\" à l'indice 3 de la liste à l'aide de la méthode .insert()\n",
    "une_liste.insert(3, \"new\")\n",
    "\n",
    "# Insertion de l'élément \"end\" à la fin de la liste à l'aide de la méthode .append()\n",
    "une_liste.append(\"new\")\n",
    "\n",
    "# Affichage de la liste après ces ajouts\n",
    "print(une_liste)\n",
    "\n",
    "# Suppression du 3ème élément de la liste (l'élément d'indice 2) à l'aide de la méthode .pop() et affichage\n",
    "une_liste.pop(2)\n",
    "print(une_liste)\n",
    "\n",
    "# Création d'une nouvelle liste\n",
    "une_nouvelle_liste = [2, 3, 5, 7]\n",
    "\n",
    "# Fusion de la liste précédente avec la nouvelle à l'aide de la méthode .extend() et affichage\n",
    "une_liste.extend(une_nouvelle_liste)\n",
    "print(une_liste)"
   ]
  },
  {
   "cell_type": "markdown",
   "metadata": {},
   "source": [
    "### Les t-uplets (tuples)\n",
    "- structure de données permettant de stocker des valeurs comme les listes\n",
    "- la définition d'un tuple avec des parenthèses à la place des crochets pour les listes, voire sans rien\n",
    "- l'indexation d'un tuple est identique à celle d'une liste\n",
    "- les tuples ne sont pas modifiables\n",
    "\n",
    "Le principal avantage de cette structure de données est le tuple assignment, c'est-à-dire pouvoir assigner des valeurs à plusieurs variables simultanèment, ce qui offre notamment une solution élégante au problème d'échange de valeurs.\n",
    "\n",
    "Source :\n",
    "*DataScientest*"
   ]
  },
  {
   "cell_type": "code",
   "execution_count": null,
   "metadata": {},
   "outputs": [],
   "source": [
    "# Création d'un tuple\n",
    "un_tuple = (\"Bonjour\", \"Au revoir\")\n",
    "un_tuple = \"Bonjour\", \"Au revoir\" # cette notation aboutit exactement au même résultat que précédemment\n",
    "\n",
    "# Tuple assignment\n",
    "x, y, z = 1, 2, 34\n",
    "print(x)\n",
    "print(y)\n",
    "print(z)\n",
    "\n",
    "print(\"\\n\")\n",
    "\n",
    "# Echange de valeurs par tuple assigment\n",
    "a = 6\n",
    "b = 17\n",
    "a, b = b, a\n",
    "print(a)\n",
    "print(b)"
   ]
  },
  {
   "cell_type": "markdown",
   "metadata": {},
   "source": [
    "### Dictionnaire\n",
    "- structure de données dont les éléments peuvent être indexés librement par des variables de n'importe quel type, contrairement aux nombres entiers de manière ordonnée pour les listes et les tuples\n",
    "- la définition d'un dictionnaire se fait entre accolades\n",
    "- chaque élément du dictionnaire est un couple **clé: valeur**\n",
    "- l'accès aux informations du dictionnaire se fait en utilisant les clés comme indice entre crochets\n",
    "\n",
    "![Image DataScientest définition dictionnaire](img/image_definition_dictionnaire.png)"
   ]
  },
  {
   "cell_type": "code",
   "execution_count": null,
   "metadata": {},
   "outputs": [],
   "source": [
    "# Définition d'un dictionnaire\n",
    "un_dictionnaire = {\"age\" : 25,\n",
    "           \"taille\" : 183,\n",
    "           \"sexe\" : \"F\",\n",
    "           \"prenom\" : \"Vanessa\"}\n",
    "\n",
    "# Affichage de l'élément dont la clé est \"taille\"\n",
    "print(un_dictionnaire[\"taille\"])\n",
    "\n",
    "# Remplacement de la valeur contenue dans la clé \"prenom\"\n",
    "un_dictionnaire[\"prenom\"] = \"Jessica\"\n",
    "\n",
    "# Ajout d'une nouvelle clé \"nom\" au dictionnaire\n",
    "un_dictionnaire[\"nom\"] = \"Pearson\"\n",
    "\n",
    "# Suppression de la clé \"sexe\"\n",
    "un_dictionnaire.pop(\"sexe\")\n",
    "\n",
    "# Affichage du dictionnaire après ces modifications\n",
    "print(un_dictionnaire)"
   ]
  },
  {
   "cell_type": "markdown",
   "metadata": {},
   "source": [
    "## Les opérateurs\n",
    "- opérateurs arithmétiques\n",
    "- opérateurs d'affectation\n",
    "- opérateurs de comparaison\n",
    "- opérateurs d'appartenance\n",
    "- opérateurs logiques\n",
    "\n",
    "Les parenthèses peuvent être utilisés pour définir les priorités d'opération."
   ]
  },
  {
   "cell_type": "markdown",
   "metadata": {},
   "source": [
    "### Opérateurs arithmétiques\n",
    "Ils sont applicables sur les variables de type numérique"
   ]
  },
  {
   "cell_type": "code",
   "execution_count": null,
   "metadata": {},
   "outputs": [],
   "source": [
    "# Addition\n",
    "print(1 + 1)\n",
    "\n",
    "# Soustraction\n",
    "print(1 - 1)\n",
    "\n",
    "# Multiplication\n",
    "print(3 * 6)\n",
    "\n",
    "# Division réelle\n",
    "print(20 / 3)\n",
    "\n",
    "# Division entière\n",
    "print(20 // 3) # 20 = 6 * 3 + 2 donc 20 // 3 = 6\n",
    "\n",
    "# Modulo\n",
    "print(20 % 3) # 20 = 6 * 3 + 2 donc 20 % 2 = 2\n",
    "\n",
    "# Puissance\n",
    "print(2 ** 4)"
   ]
  },
  {
   "cell_type": "markdown",
   "metadata": {},
   "source": [
    "### Opérateurs d'assignation\n",
    "Opérateurs permettant d'appliquer une opération arithmétique et une affectation d'un seul coup en suivant les opérateurs arithmétiques par un '='"
   ]
  },
  {
   "cell_type": "code",
   "execution_count": null,
   "metadata": {},
   "outputs": [],
   "source": [
    "# Création d'une variable x valant 100\n",
    "x = 152\n",
    "\n",
    "# Addition\n",
    "x += 1\n",
    "print(x)\n",
    "\n",
    "# Soustraction\n",
    "x -= 1\n",
    "print(x)\n",
    "\n",
    "# Multiplication\n",
    "x *= 6\n",
    "print(x)\n",
    "\n",
    "# Division réelle\n",
    "x /= 3\n",
    "print(x)\n",
    "\n",
    "# Division entière\n",
    "x //= 3\n",
    "print(x)\n",
    "\n",
    "# Modulo\n",
    "x %= 3\n",
    "print(x)\n",
    "\n",
    "# Puissance\n",
    "x **= 4\n",
    "print(x)"
   ]
  },
  {
   "cell_type": "markdown",
   "metadata": {},
   "source": [
    "### Opérateurs de comparaison\n",
    "Ils renvoient la valeur booléenne True si l'expression est vraie ou False si l'expression est fausse"
   ]
  },
  {
   "cell_type": "code",
   "execution_count": null,
   "metadata": {},
   "outputs": [],
   "source": [
    "x, y = 2, 3\n",
    "\n",
    "# Est-ce que x est strictement inférieur à y ?\n",
    "print(x < y)\n",
    "\n",
    "# Est-ce que x inférieur ou égal à y ?\n",
    "print(x <= y)\n",
    "\n",
    "# Est-ce que x est strictement supérieur à y ?\n",
    "print(x > y)\n",
    "\n",
    "# Est-ce que x est supérieur ou égal à y ?\n",
    "print(x >= y)\n",
    "\n",
    "# Est-ce que x est égal à y ?\n",
    "print(x == y)\n",
    "\n",
    "# Est-ce que x est différent de y ?\n",
    "print(x != y)"
   ]
  },
  {
   "cell_type": "markdown",
   "metadata": {},
   "source": [
    "### Opérateurs d'appartenance\n",
    "Ils permettent de tester si une valeur est présente ou non dans une séquence comme une liste ou un tuple"
   ]
  },
  {
   "cell_type": "code",
   "execution_count": null,
   "metadata": {},
   "outputs": [],
   "source": [
    "ma_liste = [13, 17, 19, 39, 51, 57]\n",
    "x = 21\n",
    "\n",
    "# Est-ce que la valeur de x fait partie de ma liste ?\n",
    "print(x in ma_liste)\n",
    "\n",
    "# Est-ce que la valeur de x ne fait pas partie de ma liste ?\n",
    "print(x not in ma_liste)"
   ]
  },
  {
   "cell_type": "markdown",
   "metadata": {},
   "source": [
    "### Opérateurs logiques\n",
    "Ils permettent de faire de l'arithmétique booléenne, c'est-à-dire déterminer dans le cas où nous voulons tester plusieurs expressions si :\n",
    "- toutes les expressions sont vraies\n",
    "- au moins une expression est vraie"
   ]
  },
  {
   "cell_type": "code",
   "execution_count": null,
   "metadata": {},
   "outputs": [],
   "source": [
    "x, y = 2, 3\n",
    "\n",
    "expression_1 = x < y\n",
    "expression_2 = x == y\n",
    "\n",
    "# Est-ce que les expressions 1 et 2 sont toutes les deux vraies ?\n",
    "print(expression_1 and expression_2)\n",
    "\n",
    "# Est-ce qu'au moins une des expressions parmi 1 et 2 est vraie ?\n",
    "print(expression_1 or expression_2)\n",
    "\n",
    "# Négation de l'expression 1\n",
    "print(not expression_1)"
   ]
  },
  {
   "cell_type": "markdown",
   "metadata": {},
   "source": [
    "## Structures de contrôle\n",
    "Les structures de contrôles permettent de conditionner si un bloc d'instructions doit s'exécuter ou non, en fonction d'une condition."
   ]
  },
  {
   "cell_type": "markdown",
   "metadata": {},
   "source": [
    "### if (condition) ... elif (condition) ... else\n",
    "\n",
    "- le caractère : après une clause if ou else permet de débuter un bloc de code\n",
    "- afin de déterminer le début et la fin d'un bloc, les instructions qui doivent s'exécuter dans un bloc doivent être indentées, c'est-à-dire décalées d'une tabulation ou de 4 espaces\n",
    "\n",
    "![Image DataScientest indentation structure de controle](img/image_indentation_ifElse.png)"
   ]
  },
  {
   "cell_type": "code",
   "execution_count": null,
   "metadata": {},
   "outputs": [],
   "source": [
    "# Conversion d'une note sur 20 dans le système de notation français en US GPA selon les recommandations de l'OECD\n",
    "note = 15\n",
    "\n",
    "if note < 11 :\n",
    "    print(\"Below 3.0\")\n",
    "elif 11 <= note < 13 :\n",
    "    print(\"3.0-3.29\")\n",
    "elif 13 <= note < 15 :\n",
    "    print(\"3.3-3.49\")\n",
    "else :\n",
    "    print(\"3.5-4.0\")"
   ]
  },
  {
   "cell_type": "markdown",
   "metadata": {},
   "source": [
    "## Les boucles\n",
    "Les boucles permettent d'éxecuter une série d'opérations autant de fois que nécessaires"
   ]
  },
  {
   "cell_type": "markdown",
   "metadata": {},
   "source": [
    "### Boucle while\n",
    "- elle permet de répéter un bloc d'instructions **tant que** la condition de départ est vraie (jusqu'à ce qu'elle soit fausse)\n",
    "- si la condition est fausse dès le départ, le bloc d'instructions n'est jamais exécuté\n",
    "- si la condition reste toujours vraie, le bloc d'instruction est exécuté indéfiniment\n",
    "- il est conseillé d'utiliser cette boucle lorsque que nous ne savons pas à l'avance exactement combien de fois la boucle va s'exécuter"
   ]
  },
  {
   "cell_type": "code",
   "execution_count": null,
   "metadata": {},
   "outputs": [],
   "source": [
    "phrase = ['La', 'boucle', 'while', 'parcourt', 'tous', 'les', 'éléments', 'de', 'la', 'liste', \"jusqu'à\", 'ce', \"qu'elle\", 'ait', 'trouvé', 'ce', \"qu'elle\", 'cherche', '.']\n",
    "\n",
    "### Utilisation de la boucle while afin de déterminer l'indice du mot \"trouvé\" ###\n",
    "\n",
    "# Instanciation d'une variable i à 0, correspond à l'indice du premier élément de la liste dont on cherche l'élément\n",
    "i = 0\n",
    "\n",
    "# Tant que le mot à l'indice où nous sommes est différent de \"trouvé\"\n",
    "while phrase[i] != \"trouvé\":\n",
    "    i += 1 # on incrémente la valeur de i de 1 pour passer à l'indice suivant\n",
    "\n",
    "# La boucle s'arrête lorsque nous avons trouvé le bon mot\n",
    "print(\"Le mot 'trouvé' est à l'indice :\", i)"
   ]
  },
  {
   "cell_type": "markdown",
   "metadata": {},
   "source": [
    "### Boucle for\n",
    "- elle permet de répéter un bloc d'instructions de manière plus contrôlée que la boucle while\n",
    "- le nombre d'itérations de la boucle for est toujours fini\n",
    "- il est inutile de modifier la variable permettant de parcourir la boucle, Python s'en charge automatiquement\n",
    "- **in** et **:** sont indispensables dans la syntaxe d'une boucle for"
   ]
  },
  {
   "cell_type": "code",
   "execution_count": null,
   "metadata": {},
   "outputs": [],
   "source": [
    "# Affichage une par une des lettre du mot 'Python' à l'aide d'une boucle for\n",
    "for lettre in \"Python\":\n",
    "    print(lettre)"
   ]
  },
  {
   "cell_type": "markdown",
   "metadata": {},
   "source": [
    "#### Fonction range\n",
    "- souvent utilisée avec les boucles for\n",
    "- prend en argument un début (inclus), une fin (exclue) et un pas\n",
    "- elle renvoie une suite de nombres allant du début à la fin avec comme incrément entre deux nombres le pas\n",
    "\n",
    "![Image DataScientest fonction range](img/image_fonction_range.png)"
   ]
  },
  {
   "cell_type": "markdown",
   "metadata": {},
   "source": [
    "Par défaut, le début est 0 et le pas est 1, ainsi :\n",
    "- range(7) renvoie la suite des nombres entiers de 0 à 6\n",
    "- range(1, 10) renvoie la suite des nombres entiers de 1 à 9\n",
    "- range(1, 10, 3) renvoie la suite 1, 4, 7\n",
    "\n",
    "Utilisons alors cette fonction afin de calculer les 100 premiers termes de la suite de Fibonacci. On fixe d'abord les 2 premiers termes de la suite :\n",
    "\n",
    "\\begin{align}\n",
    "    u_0 = 0 \\\\\n",
    "    u_1 = 1\n",
    "\\end{align}\n",
    "\n",
    "Et pour $i \\ge 2$, on calcule les termes u_i à l'aide de la formule :\n",
    "\\begin{align}\n",
    "    u_i = u_{i-1} + u_{i-2}\n",
    "\\end{align}"
   ]
  },
  {
   "cell_type": "code",
   "execution_count": null,
   "metadata": {},
   "outputs": [],
   "source": [
    "# Deux premiers termes de la suite de Fibonacci\n",
    "u = [0, 1]\n",
    "\n",
    "for i in range(2, 100):\n",
    "    u_i = u[i-1] + u[i-2]\n",
    "    u.append(u_i)\n",
    "    \n",
    "print(\"Les 100 premiers termes de la suite de Fibonacci sont :\", u)"
   ]
  },
  {
   "cell_type": "markdown",
   "metadata": {},
   "source": [
    "#### Boucles emboîtées\n",
    "C'est utile lorsqu'on doit parcourir les éléments d'une liste de listes"
   ]
  },
  {
   "cell_type": "code",
   "execution_count": null,
   "metadata": {},
   "outputs": [],
   "source": [
    "text = ['Le', 'Brésil,', 'seule', 'équipe', 'à', 'avoir', 'disputé', 'toutes',\n",
    "        'les', 'phases', 'finales', 'de', 'la', 'compétition,', 'détient', 'le', 'record',\n",
    "        'avec', 'cinq', 'titres', 'mondiaux', 'et', \"s'est\", 'acquis', 'le', 'droit', 'de',\n",
    "        'conserver', 'la', 'Coupe', 'Jules-Rimet', 'en', '1970', 'après', 'sa', '3e',\n",
    "        'victoire', 'finale', 'dans', 'la', 'compétition,', 'avec', 'Pelé', 'seul',\n",
    "        'joueur', 'triple', 'champion', 'du', 'monde.', \"l'\", \"Italie\", 'et',\n",
    "        \"l'\", \"Allemagne\", 'comptent', 'quatre', 'trophées.', \"l'\", \"Uruguay,\", 'vainqueur',\n",
    "        'à', 'domicile', 'de', 'la', 'première', 'édition,', \"l'\", \"Argentine\", 'et',\n",
    "        'la', 'France', 'ont', 'gagné', 'chacune', 'deux', 'fois', 'la', 'Coupe,',\n",
    "        \"l'\", \"Angleterre\", 'et', \"l'\", \"Espagne\", 'une', 'fois.', 'La', 'dernière', 'édition',\n",
    "        \"s'est\", 'déroulée', 'en', 'Russie', 'en', '2018,', 'la', 'prochaine', 'doit',\n",
    "        'avoir', 'lieu', 'au', 'Qatar', 'en', '2022.', 'Celle', 'de', '2026,', 'aux',\n",
    "        'États-Unis,', 'au', 'Canada', 'et', 'au', 'Mexique)', 'sera', 'la', 'première',\n",
    "        'édition', 'à', '48', 'équipes', 'participantes.', 'La', 'Coupe', 'du', 'monde',\n",
    "        'de', 'football', 'est', \"l'\", \"événement\", 'sportif', 'le', 'plus', 'regardé', 'à',\n",
    "        'la', 'télévision', 'dans', 'le', 'monde', 'avec', 'les', 'Jeux', 'olympiques',\n",
    "        'et', 'la', 'Coupe', 'du', 'monde', 'de', 'cricket.']\n",
    "\n",
    "# Initialisation de la variable nombre_e qui compte le nombre d'occurence de la lettre e\n",
    "nombre_e = 0\n",
    "# Parcourt de chaque mot de la liste text\n",
    "for word in text:\n",
    "    # Parcourt de chaque caractère du mot\n",
    "    for character in word:\n",
    "        if (character ==\"e\"):\n",
    "            nombre_e += 1\n",
    "\n",
    "print(\"Le nombre d'occurence du caractère 'e' dans le texte suivant est de :\", nombre_e)"
   ]
  },
  {
   "cell_type": "markdown",
   "metadata": {},
   "source": [
    "#### Compréhension de liste :\n",
    "Elle permet de définir de manière très compact et élégante une liste de valeurs"
   ]
  },
  {
   "cell_type": "code",
   "execution_count": null,
   "metadata": {},
   "outputs": [],
   "source": [
    "# Stockage dans une liste des 13 premiers cubes entiers\n",
    "cubes_entiers = [i**3 for i in range(13)]\n",
    "\n",
    "cubes_entiers"
   ]
  },
  {
   "cell_type": "markdown",
   "metadata": {},
   "source": [
    "#### Fonction enumerate\n",
    "Cette fonction permet d'avoir accès à l'indice d'un élément dans une séquence"
   ]
  },
  {
   "cell_type": "code",
   "execution_count": null,
   "metadata": {},
   "outputs": [],
   "source": [
    "texte = [\"le\", \"mot\", \"le\", \"est\", \"le\", \"mot\", \"dont\", \"nous\", \"cherchons\", \"la\", \"position\"]\n",
    "\n",
    "# Affichage des différentes positions du mot \"le\" dans le texte à l'aide de la fonction enumerate()\n",
    "for position, mot in enumerate(texte): # pour chaque mot dans le texte\n",
    "    if mot == \"le\": # si le mot est \"le\"\n",
    "        print(position) # on affiche sa position"
   ]
  },
  {
   "cell_type": "markdown",
   "metadata": {},
   "source": [
    "#### Fonction zip\n",
    "Cette fonction permet de parcourir plusieurs séquences de même longueur dans une seule boucle for lorsque les individus ont le même indice dans chaque séquence"
   ]
  },
  {
   "cell_type": "code",
   "execution_count": null,
   "metadata": {},
   "outputs": [],
   "source": [
    "revenus = [1200, 2000, 1500, 0, 1000, 4500, 1200, 500, 1350, 2200, 1650, 1300, 2300]\n",
    "depenses = [1000, 1700, 2000, 700, 1200, 3500, 200, 500, 1000, 3500, 1350, 1050, 1850]\n",
    "economies = []\n",
    "\n",
    "# Calcul des économies réalisées par chaque individu pendant ce mois à l'aide de la fonction zip\n",
    "for revenu, depense in zip(revenus, depenses):\n",
    "    economies.append(revenu - depense)\n",
    "print(\"Les économies réalisées par chaque individu pendant ce mois sont les suivantes :\", economies)"
   ]
  },
  {
   "cell_type": "markdown",
   "metadata": {},
   "source": [
    "## Les fonctions :\n",
    "Les fonctions sont des blocs d'instructions réutilisables, leurs résultats dépend des arguments (paramètres) qui leur sont données en entrée. La syntaxe pour la définition d'une fonction est la suivante :\n",
    "```py\n",
    "def ma_fonction(parametre1, parametre2, ..., parametreN):\n",
    "    # Bloc d'instructions\n",
    "    ...\n",
    "    ...\n",
    "    ...\n",
    "    # Le resultat de la fonction est donné par la variable sortie\n",
    "    return sortie\n",
    "```"
   ]
  },
  {
   "cell_type": "code",
   "execution_count": null,
   "metadata": {},
   "outputs": [],
   "source": [
    "liste_nombres = [1, 0.12, -54, 12, 0.33, 12]\n",
    "\n",
    "# Définition de la fonction nommé list_product qui prend en argument une liste et renvoie le produit de tous les nombres dans la liste\n",
    "def list_product(liste):\n",
    "    # Initialisation du produit à 1\n",
    "    produit = 1\n",
    "    # Pour chaque nombre dans la liste\n",
    "    for nombre in liste:\n",
    "        # On multiplie le produit avec ce nombre\n",
    "        produit *= nombre\n",
    "    return produit\n",
    "\n",
    "# Appel de la fonction et affichage du produit des nombres de test_list\n",
    "print(list_product(liste_nombres))"
   ]
  },
  {
   "cell_type": "markdown",
   "metadata": {},
   "source": [
    "### Documentation d'une fonction\n",
    "La documentation d'une fonction est ce qui permet d'expliquer aux autres utilisateurs comment la fonction doit être utilisée en lui fournissant une description de son fonctionnement, de ses paramètres et de ce qu'elle renvoie :\n",
    "```py\n",
    "def sort_list(a_list, order = \"ascending\"):\n",
    "    \"\"\"\n",
    "    Cette fonction trie une liste dans l'ordre spécifié par l'argument 'order'.\n",
    "\n",
    "    Paramètres:\n",
    "        list : la liste à trier.\n",
    "\n",
    "        order : Doit prendre la valeur \"ascending\" si on veut trier la liste dans l'ordre croissant.\n",
    "                Doit prendre la valeur \"descending\" sinon.\n",
    "\n",
    "    Renvoie:\n",
    "        La même liste mais triée.\n",
    "    \"\"\"\n",
    "    # instructions\n",
    "    ...\n",
    "    ...\n",
    "    ...\n",
    "    return sorted_list\n",
    "```"
   ]
  },
  {
   "cell_type": "code",
   "execution_count": null,
   "metadata": {},
   "outputs": [],
   "source": [
    "# Affichage de la documentation de la fonction len de Python\n",
    "help(len)\n",
    "\n",
    "# Définition de la fonction total_len qui prend en argument une liste de listes et qui détermine son nombre total d'éléments\n",
    "def total_len(liste_de_listes):\n",
    "    \"\"\"\n",
    "    Cette fonction calcule le nombre le nombre total d'éléments dans une liste de listes.\n",
    "\n",
    "    Paramètres:\n",
    "        liste_de_listes : la liste de listes dont on veut calculer le nombre total d'élément.\n",
    "\n",
    "    Renvoie:\n",
    "        Le nombre total d'éléments de la liste de listes en argument.\n",
    "    \"\"\"\n",
    "    \n",
    "    # Initialisation du nombre d'élément de la liste\n",
    "    nombre_elt = 0\n",
    "            \n",
    "    # Pour chaque liste dans la liste de listes\n",
    "    for liste in liste_de_listes:\n",
    "        # On compte le nombre d'éléments dans la liste\n",
    "        nombre_elt += len(liste)\n",
    "            \n",
    "    return nombre_elt\n",
    "\n",
    "# liste de test\n",
    "test_list = [[1, 23, 1201, 21, 213 ,2],\n",
    "             [2311, 12, 3, 4],\n",
    "             [11 , 32, 1, 1, 2, 3, 3],\n",
    "             [1, 1, 1, 1, 1, 1, 1, 1, 1, 1, 1, 1, 1, 1]]\n",
    "\n",
    "# Test de la fonction total_len sur la liste de test\n",
    "print(\"Le nombre total d'éléments présents dans la liste de test fournie dans l'énoncé est de :\", total_len(test_list))"
   ]
  },
  {
   "cell_type": "markdown",
   "metadata": {},
   "source": [
    "#### Fonctions récursives :\n",
    "La récursivité est la propriété pour une fonction de s'évaluer elle-même dans sa propre définition. L'idée est de simplifier un problème jusqu'à ce que la solution soit triviale."
   ]
  },
  {
   "cell_type": "code",
   "execution_count": null,
   "metadata": {},
   "outputs": [],
   "source": [
    "# Définition de la fonction récursive factorielle qui à un nombre n calcule sa factorielle n! = 1 x 2 x ... x n\n",
    "def factorielle(n):\n",
    "    # Initialisation de la variable factorielle_n à 1\n",
    "    factorielle_n = 1\n",
    "    \n",
    "    return 1 if n == 0 else \"Nombre négatif ou nul\" if n < 0 else n * factorielle(n - 1) # n! = n * (n-1)!\n",
    "\n",
    "# Calcul de 5!\n",
    "print(\"5! =\", factorielle(5))"
   ]
  }
 ],
 "metadata": {
  "kernelspec": {
   "display_name": "Python 3",
   "language": "python",
   "name": "python3"
  },
  "language_info": {
   "codemirror_mode": {
    "name": "ipython",
    "version": 3
   },
   "file_extension": ".py",
   "mimetype": "text/x-python",
   "name": "python",
   "nbconvert_exporter": "python",
   "pygments_lexer": "ipython3",
   "version": "3.7.6"
  }
 },
 "nbformat": 4,
 "nbformat_minor": 4
}
